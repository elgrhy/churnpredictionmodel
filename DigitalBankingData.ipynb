{
  "nbformat": 4,
  "nbformat_minor": 0,
  "metadata": {
    "colab": {
      "provenance": []
    },
    "kernelspec": {
      "name": "python3",
      "display_name": "Python 3"
    },
    "language_info": {
      "name": "python"
    }
  },
  "cells": [
    {
      "cell_type": "code",
      "source": [
        "import random\n",
        "import pandas as pd\n",
        "from google.colab import files\n",
        "\n",
        "# Generate 5000 random entries\n",
        "customer_ids = [random.randint(1001, 2000) for i in range(5000)]\n",
        "transaction_dates = pd.date_range(start='2022-01-01', end='2022-12-31', periods=5000)\n",
        "transaction_amounts = [round(random.uniform(10, 1000), 2) for i in range(5000)]\n",
        "account_balances = [round(random.uniform(1000, 10000), 2) for i in range(5000)]\n",
        "\n",
        "# Combine data into a Pandas DataFrame\n",
        "data = pd.DataFrame({\n",
        "    'customer_id': customer_ids,\n",
        "    'transaction_date': transaction_dates,\n",
        "    'transaction_amount': transaction_amounts,\n",
        "    'account_balance': account_balances\n",
        "})\n",
        "\n",
        "# Save DataFrame to a CSV file\n",
        "data.to_csv('random_data.csv', index=False)\n",
        "\n",
        "# Download the CSV file from Google Colab\n",
        "files.download('random_data.csv')\n"
      ],
      "metadata": {
        "colab": {
          "base_uri": "https://localhost:8080/",
          "height": 17
        },
        "id": "v0-L-2Ar1cL5",
        "outputId": "bebbb635-5cda-4226-a13b-285fdd5083d8"
      },
      "execution_count": 1,
      "outputs": [
        {
          "output_type": "display_data",
          "data": {
            "text/plain": [
              "<IPython.core.display.Javascript object>"
            ],
            "application/javascript": [
              "\n",
              "    async function download(id, filename, size) {\n",
              "      if (!google.colab.kernel.accessAllowed) {\n",
              "        return;\n",
              "      }\n",
              "      const div = document.createElement('div');\n",
              "      const label = document.createElement('label');\n",
              "      label.textContent = `Downloading \"${filename}\": `;\n",
              "      div.appendChild(label);\n",
              "      const progress = document.createElement('progress');\n",
              "      progress.max = size;\n",
              "      div.appendChild(progress);\n",
              "      document.body.appendChild(div);\n",
              "\n",
              "      const buffers = [];\n",
              "      let downloaded = 0;\n",
              "\n",
              "      const channel = await google.colab.kernel.comms.open(id);\n",
              "      // Send a message to notify the kernel that we're ready.\n",
              "      channel.send({})\n",
              "\n",
              "      for await (const message of channel.messages) {\n",
              "        // Send a message to notify the kernel that we're ready.\n",
              "        channel.send({})\n",
              "        if (message.buffers) {\n",
              "          for (const buffer of message.buffers) {\n",
              "            buffers.push(buffer);\n",
              "            downloaded += buffer.byteLength;\n",
              "            progress.value = downloaded;\n",
              "          }\n",
              "        }\n",
              "      }\n",
              "      const blob = new Blob(buffers, {type: 'application/binary'});\n",
              "      const a = document.createElement('a');\n",
              "      a.href = window.URL.createObjectURL(blob);\n",
              "      a.download = filename;\n",
              "      div.appendChild(a);\n",
              "      a.click();\n",
              "      div.remove();\n",
              "    }\n",
              "  "
            ]
          },
          "metadata": {}
        },
        {
          "output_type": "display_data",
          "data": {
            "text/plain": [
              "<IPython.core.display.Javascript object>"
            ],
            "application/javascript": [
              "download(\"download_1b1dfbc2-6b4d-49ff-b0fb-9c1de2f758d6\", \"random_data.csv\", 248630)"
            ]
          },
          "metadata": {}
        }
      ]
    },
    {
      "cell_type": "code",
      "source": [
        "import random\n",
        "import pandas as pd\n",
        "from google.colab import files\n",
        "\n",
        "# Generate 5000 random entries\n",
        "customer_ids = [random.randint(2001, 3000) for i in range(5000)]\n",
        "transaction_dates = pd.date_range(start='2023-01-01', end='2024-01-01', periods=5000)\n",
        "transaction_amounts = [round(random.uniform(10, 1000), 2) for i in range(5000)]\n",
        "account_balances = [round(random.uniform(1000, 10000), 2) for i in range(5000)]\n",
        "\n",
        "# Combine data into a Pandas DataFrame\n",
        "data = pd.DataFrame({\n",
        "    'customer_id': customer_ids,\n",
        "    'transaction_date': transaction_dates,\n",
        "    'transaction_amount': transaction_amounts,\n",
        "    'account_balance': account_balances\n",
        "})\n",
        "\n",
        "# Save DataFrame to a CSV file\n",
        "data.to_csv('new_customers.csv', index=False)\n",
        "\n",
        "# Download the CSV file from Google Colab\n",
        "files.download('new_customers.csv')\n"
      ],
      "metadata": {
        "colab": {
          "base_uri": "https://localhost:8080/",
          "height": 17
        },
        "id": "PwMr6r913xhJ",
        "outputId": "550c7308-1833-49bd-a0b2-acf626c0c063"
      },
      "execution_count": 2,
      "outputs": [
        {
          "output_type": "display_data",
          "data": {
            "text/plain": [
              "<IPython.core.display.Javascript object>"
            ],
            "application/javascript": [
              "\n",
              "    async function download(id, filename, size) {\n",
              "      if (!google.colab.kernel.accessAllowed) {\n",
              "        return;\n",
              "      }\n",
              "      const div = document.createElement('div');\n",
              "      const label = document.createElement('label');\n",
              "      label.textContent = `Downloading \"${filename}\": `;\n",
              "      div.appendChild(label);\n",
              "      const progress = document.createElement('progress');\n",
              "      progress.max = size;\n",
              "      div.appendChild(progress);\n",
              "      document.body.appendChild(div);\n",
              "\n",
              "      const buffers = [];\n",
              "      let downloaded = 0;\n",
              "\n",
              "      const channel = await google.colab.kernel.comms.open(id);\n",
              "      // Send a message to notify the kernel that we're ready.\n",
              "      channel.send({})\n",
              "\n",
              "      for await (const message of channel.messages) {\n",
              "        // Send a message to notify the kernel that we're ready.\n",
              "        channel.send({})\n",
              "        if (message.buffers) {\n",
              "          for (const buffer of message.buffers) {\n",
              "            buffers.push(buffer);\n",
              "            downloaded += buffer.byteLength;\n",
              "            progress.value = downloaded;\n",
              "          }\n",
              "        }\n",
              "      }\n",
              "      const blob = new Blob(buffers, {type: 'application/binary'});\n",
              "      const a = document.createElement('a');\n",
              "      a.href = window.URL.createObjectURL(blob);\n",
              "      a.download = filename;\n",
              "      div.appendChild(a);\n",
              "      a.click();\n",
              "      div.remove();\n",
              "    }\n",
              "  "
            ]
          },
          "metadata": {}
        },
        {
          "output_type": "display_data",
          "data": {
            "text/plain": [
              "<IPython.core.display.Javascript object>"
            ],
            "application/javascript": [
              "download(\"download_0c24e380-8808-428a-a792-937815f2a00c\", \"new_customers.csv\", 248547)"
            ]
          },
          "metadata": {}
        }
      ]
    }
  ]
}